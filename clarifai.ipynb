{
 "nbformat": 4,
 "nbformat_minor": 0,
 "metadata": {
  "colab": {
   "provenance": []
  },
  "kernelspec": {
   "name": "python3",
   "language": "python",
   "display_name": "Python 3 (ipykernel)"
  },
  "language_info": {
   "name": "python"
  }
 },
 "cells": [
  {
   "cell_type": "code",
   "execution_count": 6,
   "outputs": [],
   "source": [
    "from icecream import ic\n",
    "from pprint import pprint"
   ],
   "metadata": {
    "collapsed": false,
    "ExecuteTime": {
     "end_time": "2023-08-27T22:17:10.752267Z",
     "start_time": "2023-08-27T22:17:10.729390Z"
    }
   }
  },
  {
   "cell_type": "code",
   "execution_count": 5,
   "outputs": [],
   "source": [
    "from clarifai_grpc.channel.clarifai_channel import ClarifaiChannel\n",
    "from clarifai_grpc.grpc.api import resources_pb2, service_pb2, service_pb2_grpc\n",
    "from clarifai_grpc.grpc.api.status import status_code_pb2"
   ],
   "metadata": {
    "collapsed": false,
    "ExecuteTime": {
     "end_time": "2023-08-27T22:17:08.739146Z",
     "start_time": "2023-08-27T22:17:08.706399Z"
    }
   }
  },
  {
   "cell_type": "code",
   "execution_count": 7,
   "outputs": [],
   "source": [
    "PAT = 'b56b5c674b30487b8ad201a82e15242e'\n",
    "USER_ID = 'learnery'\n",
    "APP_ID = 'creator'\n",
    "WORKFLOW_ID = 'course-flow'"
   ],
   "metadata": {
    "collapsed": false,
    "ExecuteTime": {
     "end_time": "2023-08-27T22:17:13.260139Z",
     "start_time": "2023-08-27T22:17:13.241860Z"
    }
   }
  },
  {
   "cell_type": "code",
   "execution_count": null,
   "outputs": [],
   "source": [
    "TEXT_FILE_URL = 'https://samples.clarifai.com/negative_sentence_12.txt'"
   ],
   "metadata": {
    "collapsed": false,
    "ExecuteTime": {
     "start_time": "2023-08-27T21:59:00.023346Z"
    }
   }
  },
  {
   "cell_type": "code",
   "source": [
    "channel = ClarifaiChannel.get_grpc_channel()\n",
    "stub = service_pb2_grpc.V2Stub(channel)\n",
    "\n",
    "metadata = (('authorization', 'Key ' + PAT),)\n",
    "userDataObject = resources_pb2.UserAppIDSet(user_id=USER_ID, app_id=APP_ID)"
   ],
   "metadata": {
    "id": "P-Q9MH9AewdY",
    "ExecuteTime": {
     "end_time": "2023-08-27T22:17:16.789403Z",
     "start_time": "2023-08-27T22:17:16.753050Z"
    }
   },
   "execution_count": 8,
   "outputs": []
  },
  {
   "cell_type": "code",
   "execution_count": 14,
   "metadata": {
    "colab": {
     "base_uri": "https://localhost:8080/",
     "height": 245
    },
    "id": "PEDtdgpNeGXQ",
    "outputId": "c928d349-759e-40c0-e8af-a48cc0372a31",
    "ExecuteTime": {
     "end_time": "2023-08-27T22:19:14.012405Z",
     "start_time": "2023-08-27T22:19:04.789049Z"
    }
   },
   "outputs": [
    {
     "data": {
      "text/plain": "status {\n  code: SUCCESS\n  description: \"Ok\"\n  req_id: \"33bf5482a62b24906c741ded9a4e616d\"\n}\nworkflow {\n  id: \"course-flow\"\n  app_id: \"creator\"\n  created_at {\n    seconds: 1693161728\n    nanos: 536416000\n  }\n  metadata {\n  }\n  visibility {\n    gettable: PRIVATE\n  }\n  user_id: \"learnery\"\n  modified_at {\n    seconds: 1693164128\n    nanos: 586993000\n  }\n  version {\n    id: \"276666270c054d6d913dfcec2166f459\"\n  }\n}\nresults {\n  status {\n    code: SUCCESS\n    description: \"Ok\"\n  }\n  input {\n    id: \"0e8a717130fa495f922432578243bb7a\"\n    data {\n      text {\n        raw: \"the course is to teach beginners to ride bicycles\"\n        url: \"https://samples.clarifai.com/placeholder.gif\"\n      }\n    }\n  }\n  outputs {\n    id: \"d490dfd1b0584bc0955a286b7fb82264\"\n    status {\n      code: SUCCESS\n      description: \"Ok\"\n    }\n    created_at {\n      seconds: 1693174748\n      nanos: 836814603\n    }\n    model {\n      id: \"workflow-model-a894-70138b28fe8f\"\n      name: \"workflow-model-a894-70138b28fe8f\"\n      created_at {\n        seconds: 1693162061\n        nanos: 683399000\n      }\n      modified_at {\n        seconds: 1693162061\n        nanos: 683399000\n      }\n      app_id: \"creator\"\n      model_version {\n        id: \"55cdc968212844fda12ff4bb3f9d9071\"\n        created_at {\n          seconds: 1693162062\n          nanos: 251331000\n        }\n        status {\n          code: MODEL_TRAINED\n          description: \"Model is trained and ready\"\n        }\n        visibility {\n          gettable: PRIVATE\n        }\n        app_id: \"creator\"\n        user_id: \"learnery\"\n        metadata {\n        }\n      }\n      user_id: \"learnery\"\n      model_type_id: \"prompter\"\n      visibility {\n        gettable: PRIVATE\n      }\n      workflow_recommended {\n      }\n    }\n    data {\n      text {\n        raw: \"You are a senior course design for the course: the course is to teach beginners to ride bicycles. Lets choose a good title for the course\"\n        text_info {\n          encoding: \"UnknownTextEnc\"\n        }\n      }\n    }\n  }\n  outputs {\n    id: \"0515d612e55c4c8c812e3ef65ed019c6\"\n    status {\n      code: SUCCESS\n      description: \"Ok\"\n    }\n    created_at {\n      seconds: 1693174748\n      nanos: 836827429\n    }\n    model {\n      id: \"llama2-7b-chat\"\n      name: \"Llama-2-7b-chat\"\n      created_at {\n        seconds: 1689868549\n        nanos: 275472000\n      }\n      modified_at {\n        seconds: 1692937154\n        nanos: 633027000\n      }\n      app_id: \"Llama-2\"\n      model_version {\n        id: \"e52af5d6bc22445aa7a6761f327f7129\"\n        created_at {\n          seconds: 1689868549\n          nanos: 283450000\n        }\n        status {\n          code: MODEL_TRAINED\n          description: \"Model is trained and ready\"\n        }\n        completed_at {\n          seconds: 1689872528\n          nanos: 894256000\n        }\n        visibility {\n          gettable: PUBLIC\n        }\n        app_id: \"Llama-2\"\n        user_id: \"meta\"\n        metadata {\n        }\n      }\n      user_id: \"meta\"\n      model_type_id: \"text-to-text\"\n      visibility {\n        gettable: PUBLIC\n      }\n      workflow_recommended {\n      }\n    }\n  }\n}"
     },
     "execution_count": 14,
     "metadata": {},
     "output_type": "execute_result"
    }
   ],
   "source": [
    "post_workflow_results_response = stub.PostWorkflowResults(\n",
    "    service_pb2.PostWorkflowResultsRequest(\n",
    "        user_app_id=userDataObject,\n",
    "        workflow_id=WORKFLOW_ID,\n",
    "        inputs=[\n",
    "            resources_pb2.Input(\n",
    "                data=resources_pb2.Data(\n",
    "                    text = resources_pb2.Text(\n",
    "                      raw='the course is to teach beginners to ride bicycles',\n",
    "                        # url = ''\n",
    "                    )\n",
    "                )\n",
    "            )\n",
    "        ]\n",
    "    ),\n",
    "    metadata=metadata\n",
    ")\n",
    "if post_workflow_results_response.status.code != status_code_pb2.SUCCESS:\n",
    "    print(post_workflow_results_response.status)\n",
    "    raise Exception(\"Post workflow results failed, status: \" + post_workflow_results_response.status.description)\n",
    "\n",
    "post_workflow_results_response"
   ]
  },
  {
   "cell_type": "code",
   "execution_count": 26,
   "outputs": [
    {
     "data": {
      "text/plain": "[status {\n  code: SUCCESS\n  description: \"Ok\"\n}\ninput {\n  id: \"0e8a717130fa495f922432578243bb7a\"\n  data {\n    text {\n      raw: \"the course is to teach beginners to ride bicycles\"\n      url: \"https://samples.clarifai.com/placeholder.gif\"\n    }\n  }\n}\noutputs {\n  id: \"d490dfd1b0584bc0955a286b7fb82264\"\n  status {\n    code: SUCCESS\n    description: \"Ok\"\n  }\n  created_at {\n    seconds: 1693174748\n    nanos: 836814603\n  }\n  model {\n    id: \"workflow-model-a894-70138b28fe8f\"\n    name: \"workflow-model-a894-70138b28fe8f\"\n    created_at {\n      seconds: 1693162061\n      nanos: 683399000\n    }\n    modified_at {\n      seconds: 1693162061\n      nanos: 683399000\n    }\n    app_id: \"creator\"\n    model_version {\n      id: \"55cdc968212844fda12ff4bb3f9d9071\"\n      created_at {\n        seconds: 1693162062\n        nanos: 251331000\n      }\n      status {\n        code: MODEL_TRAINED\n        description: \"Model is trained and ready\"\n      }\n      visibility {\n        gettable: PRIVATE\n      }\n      app_id: \"creator\"\n      user_id: \"learnery\"\n      metadata {\n      }\n    }\n    user_id: \"learnery\"\n    model_type_id: \"prompter\"\n    visibility {\n      gettable: PRIVATE\n    }\n    workflow_recommended {\n    }\n  }\n  data {\n    text {\n      raw: \"You are a senior course design for the course: the course is to teach beginners to ride bicycles. Lets choose a good title for the course\"\n      text_info {\n        encoding: \"UnknownTextEnc\"\n      }\n    }\n  }\n}\noutputs {\n  id: \"0515d612e55c4c8c812e3ef65ed019c6\"\n  status {\n    code: SUCCESS\n    description: \"Ok\"\n  }\n  created_at {\n    seconds: 1693174748\n    nanos: 836827429\n  }\n  model {\n    id: \"llama2-7b-chat\"\n    name: \"Llama-2-7b-chat\"\n    created_at {\n      seconds: 1689868549\n      nanos: 275472000\n    }\n    modified_at {\n      seconds: 1692937154\n      nanos: 633027000\n    }\n    app_id: \"Llama-2\"\n    model_version {\n      id: \"e52af5d6bc22445aa7a6761f327f7129\"\n      created_at {\n        seconds: 1689868549\n        nanos: 283450000\n      }\n      status {\n        code: MODEL_TRAINED\n        description: \"Model is trained and ready\"\n      }\n      completed_at {\n        seconds: 1689872528\n        nanos: 894256000\n      }\n      visibility {\n        gettable: PUBLIC\n      }\n      app_id: \"Llama-2\"\n      user_id: \"meta\"\n      metadata {\n      }\n    }\n    user_id: \"meta\"\n    model_type_id: \"text-to-text\"\n    visibility {\n      gettable: PUBLIC\n    }\n    workflow_recommended {\n    }\n  }\n}\n]"
     },
     "execution_count": 26,
     "metadata": {},
     "output_type": "execute_result"
    }
   ],
   "source": [
    "post_workflow_results_response.results"
   ],
   "metadata": {
    "collapsed": false,
    "ExecuteTime": {
     "end_time": "2023-08-27T22:19:57.523744Z",
     "start_time": "2023-08-27T22:19:57.516881Z"
    }
   }
  },
  {
   "cell_type": "code",
   "source": [
    "results = post_workflow_results_response.results[0]\n",
    "\n",
    "# Each model we have in the workflow will produce one output.\n",
    "for output in results.outputs:\n",
    "    model = output.model\n",
    "\n",
    "    print(\"Predicted concepts for the model `%s`\" % model.id)\n",
    "    for concept in output.data.concepts:\n",
    "        ic(concept)\n",
    "        # print(\"\t%s %.2f\" % (concept.name, concept.value))\n"
   ],
   "metadata": {
    "colab": {
     "base_uri": "https://localhost:8080/"
    },
    "id": "IXVl89QuxkML",
    "outputId": "1ccf5e91-b739-4bc1-baca-ea973c490043",
    "ExecuteTime": {
     "end_time": "2023-08-27T22:19:47.172894Z",
     "start_time": "2023-08-27T22:19:47.154250Z"
    }
   },
   "execution_count": 25,
   "outputs": [
    {
     "name": "stdout",
     "output_type": "stream",
     "text": [
      "Predicted concepts for the model `workflow-model-a894-70138b28fe8f`\n",
      "Predicted concepts for the model `llama2-7b-chat`\n"
     ]
    }
   ]
  },
  {
   "cell_type": "code",
   "source": [],
   "metadata": {
    "id": "XUNEkMgy1IG1",
    "ExecuteTime": {
     "start_time": "2023-08-27T21:59:00.027159Z"
    }
   },
   "execution_count": null,
   "outputs": []
  },
  {
   "cell_type": "code",
   "source": [
    "request = service_pb2.PostModelOutputsRequest(\n",
    "    # This is the model ID of a publicly available General model. You may use any other public or custom model ID.\n",
    "    model_id=\"general-image-recognition\",\n",
    "    user_app_id=resources_pb2.UserAppIDSet(app_id=YOUR_APPLICATION_ID),\n",
    "    inputs=[\n",
    "        resources_pb2.Input(\n",
    "            data=resources_pb2.Data(image=resources_pb2.Image(url=SAMPLE_URL))\n",
    "        )\n",
    "    ],\n",
    ")\n",
    "\n",
    "response = stub.PostModelOutputs(request, metadata=metadata)\n",
    "\n",
    "if response.status.code != status_code_pb2.SUCCESS:\n",
    "    print(response)\n",
    "    raise Exception(f\"Request failed, status code: {response.status}\")\n",
    "\n",
    "for concept in response.outputs[0].data.concepts:\n",
    "    print(\"%12s: %.2f\" % (concept.name, concept.value))"
   ],
   "metadata": {
    "id": "vh4owKM71IUR",
    "ExecuteTime": {
     "start_time": "2023-08-27T21:59:00.027900Z"
    }
   },
   "execution_count": null,
   "outputs": []
  }
 ]
}
